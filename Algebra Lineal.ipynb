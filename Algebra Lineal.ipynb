{
 "cells": [
  {
   "cell_type": "markdown",
   "metadata": {},
   "source": [
    "<h1 style=\"color: #323232; text-align: center; font-size: 40px; font-family: 'Open Sans Condensed'\">Introducción a Matrices y Vectores con Julia</h1>\n",
    "<hr style=\"padding: 0; margin:0\">"
   ]
  },
  {
   "cell_type": "markdown",
   "metadata": {},
   "source": [
    "<p style=\"margin:0; padding:0\"><i style=\"color: #323232\">Ronald Guillermo Patty Calizaya</i> <br>\n",
    "<i><a style=\"color: #00508f; text-decoration: none;\">ronald_patty90@hotmail.com</a></i> <br>\n",
    "<i><a href=\"https://www.facebook.com/ronaldguillermop\" style=\"color: #00508f; text-decoration: none;\">Facebook</a></i><br>\n",
    "<i style=\"color: #323232\">Enero 2018</i>\n",
    "</p>\n",
    "<hr style=\"padding: 0; margin:0\">"
   ]
  },
  {
   "cell_type": "markdown",
   "metadata": {},
   "source": [
    "<p style=\"color: #343233; text-align: justify; text-justify: inter-word;\">En la presente guía se mostrara la capacidad que tiene <a href=\"https://julialang.org\" style=\"color: #00508f; font-size:16px; text-decoration:none\">Julia</a> lenguaje de programación, al manipular operaciones con matrices y vectores. La presente guiá tiene como propósito, mostrar las diferentes funciones internas de Julia al momento de realizar ejercicios del álgebra lineal. Cabe señalar que no es el propósito mostrar un sin fin ejemplos de operaciones matriciales ya que en su mayoría son muy intuitivas al momento de su trabajo (especialmente para aquellos usuarios que vienen de <b>MATLAB</b>), asimismo la presente guía no pretende ser un curso de álgebra lineal.</p>\n",
    "\n",
    "<p style=\"color: #343233; text-align: justify; text-justify: inter-word;\">Es necesario indicar que existe cuadros comparativos elaborados por <a href=\"https://julialang.org\" style=\"color: #00508f; font-size:16px; text-decoration:none\">QuantEcon</a>, mostrando la diferencia entre Python, MATLAB y Julia al momento de trabajar con matrices.</p>\n",
    "\n",
    "<p style=\"color: #343233; text-align: justify; text-justify: inter-word;\"><b>Nota</b>: La presente guía no refleja el total de funciones internas que tiene Julia.</p>"
   ]
  },
  {
   "cell_type": "markdown",
   "metadata": {},
   "source": [
    "<h2 style=\"color: #323232; font-size:25px; font-family: 'Open Sans Condensed'\">Contenido</h2>"
   ]
  },
  {
   "cell_type": "markdown",
   "metadata": {},
   "source": [
    "<ol><li style=\"color: #343233; text-decoration:none\" href=\"#uno\">Operaciones Básicas</li>\n",
    "    <ul>\n",
    "        <li style=\"color: #343233; text-decoration:none\" href=\"#uno\">Vectores simples</li>\n",
    "        <li style=\"color: #343233; text-decoration:none\" href=\"#uno\">Matrices simples</li>\n",
    "            <li style=\"color: #343233; text-decoration:none\" href=\"#uno\">Selecccion de elementos de una matriz</li>\n",
    "        <li style=\"color: #343233; text-decoration:none\" href=\"#uno\">Vectores simples</li>\n",
    "        <li style=\"color: #343233; text-decoration:none\" href=\"#uno\">Resumen de las operaciones básicas con vectores y matrices</li>\n",
    "    </ul>\n",
    "    \n",
    "  <li style=\"color: #343233; text-decoration:none\" href=\"#dos\">Matrices Especiales</li>\n",
    "  <ul><li style=\"color: #343233; text-decoration:none\" href=\"#uno\">Operaciones simples con matrices especiales</li></ul>\n",
    "  \n",
    "  <li style=\"color: #343233; text-decoration:none\" href=\"#tres\">Matrices Complejas</li>\n",
    "  <li style=\"color: #343233; text-decoration:none\" href=\"#cuatro\">Matrices Vacias</li>\n",
    "  <li style=\"color: #343233; text-decoration:none\" href=\"#cinco\">Aplicación</li></ol>"
   ]
  },
  {
   "cell_type": "markdown",
   "metadata": {},
   "source": [
    "<h2 id=\"uno\" style=\"color: #323232; font-size:25px; font-family: 'Open Sans Condensed'\">1. Operaciones Básicas</h2>"
   ]
  },
  {
   "cell_type": "markdown",
   "metadata": {},
   "source": [
    "<p style=\"color: #343233; text-align: justify; text-justify: inter-word;\">En la presente guía se entiende por operaciones básicas, a el como generar vectores y matrices asi como la selección de sus elementos y las operaciones elementarias del álgebra lineal.</p>"
   ]
  },
  {
   "cell_type": "markdown",
   "metadata": {},
   "source": [
    "<h2 style=\"color: #323232; font-size:25px; font-family: 'Open Sans Condensed'\">Vectores Simples</h2>"
   ]
  },
  {
   "cell_type": "markdown",
   "metadata": {},
   "source": [
    "<p style=\"color: #343233; text-align: justify; text-justify: inter-word;\">Se tiene el siguiente vector fila.</p>\n",
    "$$a = \\begin{bmatrix}1&2&3&4\\end{bmatrix}$$\n",
    "<p style=\"color: #343233; text-align: justify; text-justify: inter-word;\">El ingreso del vector en Julia sera de la siguiente forma:</p>"
   ]
  },
  {
   "cell_type": "code",
   "execution_count": 1,
   "metadata": {},
   "outputs": [
    {
     "data": {
      "text/plain": [
       "1×4 RowVector{Int64,Array{Int64,1}}:\n",
       " 1  2  3  4"
      ]
     },
     "execution_count": 1,
     "metadata": {},
     "output_type": "execute_result"
    }
   ],
   "source": [
    "a = [1; 2; 3; 4]'"
   ]
  },
  {
   "cell_type": "markdown",
   "metadata": {},
   "source": [
    "<p style=\"color: #343233; text-align: justify; text-justify: inter-word;\">Generando el siguiente vector en Julia:</p>\n",
    "$$b = \\begin{bmatrix}1\\\\  2\\\\ 3\\\\4\\end{bmatrix}$$"
   ]
  },
  {
   "cell_type": "code",
   "execution_count": 2,
   "metadata": {},
   "outputs": [
    {
     "data": {
      "text/plain": [
       "4-element Array{Int64,1}:\n",
       " 1\n",
       " 2\n",
       " 3\n",
       " 4"
      ]
     },
     "execution_count": 2,
     "metadata": {},
     "output_type": "execute_result"
    }
   ],
   "source": [
    "b = [1; 2; 3; 4]"
   ]
  },
  {
   "cell_type": "markdown",
   "metadata": {},
   "source": [
    "<p style=\"color: #343233; text-align: justify; text-justify: inter-word;\">Dado el vector c, se procede a realizar el producto entre a y c, elemento a elemento:</p>\n",
    "\n",
    "$$c = \\begin{bmatrix}4 & 5 & 6 & 9\\end{bmatrix}$$"
   ]
  },
  {
   "cell_type": "code",
   "execution_count": 3,
   "metadata": {},
   "outputs": [
    {
     "data": {
      "text/plain": [
       "1×4 RowVector{Int64,Array{Int64,1}}:\n",
       " 4  5  6  9"
      ]
     },
     "execution_count": 3,
     "metadata": {},
     "output_type": "execute_result"
    }
   ],
   "source": [
    "c = [4; 5; 6; 9]'"
   ]
  },
  {
   "cell_type": "code",
   "execution_count": 4,
   "metadata": {},
   "outputs": [
    {
     "data": {
      "text/plain": [
       "1×4 RowVector{Int64,Array{Int64,1}}:\n",
       " 4  10  18  36"
      ]
     },
     "execution_count": 4,
     "metadata": {},
     "output_type": "execute_result"
    }
   ],
   "source": [
    "# Producto entre a y c, elemento a elemento\n",
    "a.*c"
   ]
  },
  {
   "cell_type": "markdown",
   "metadata": {},
   "source": [
    "<p style=\"color: #343233; text-align: justify; text-justify: inter-word;\">Otra forma de generar vectores en Julia es a través de las funciones predefinidas por el lenguaje de programación. En Julia se tiene las siguientes funciones.</p>"
   ]
  },
  {
   "cell_type": "markdown",
   "metadata": {},
   "source": [
    "<table>\n",
    "  <tr>\n",
    "    <th style=\"color: #323232; text-align: center; font-size:15px\">FUNCIONES</th>\n",
    "    <th style=\"color: #323232; text-align: center; font-size:15px\">DESCRIPCIÓN</th>\n",
    "  </tr>\n",
    "  <tr>\n",
    "    <td style=\"color: #343233; text-align: left; font-size:14px\">inicio:fin</td>\n",
    "    <td style=\"color: #343233; text-align: left; font-size:14px\">Genera un vector defenida por el usuario, con espacios de una unidad</td>\n",
    "  </tr>\n",
    "  <tr>\n",
    "    <td style=\"color: #343233; text-align: left; font-size:14px\">inicio:n:fin</td>\n",
    "    <td style=\"color: #343233; text-align: left; font-size:14px\">Genera un vector definida por el usuario, con espacios de n</td>\n",
    "  </tr>\n",
    "  <tr>\n",
    "    <td style=\"color: #343233; text-align: left; font-size:14px\">collect(a)</td>\n",
    "    <td style=\"color: #343233; text-align: left; font-size:14px\">Muestra los valores del vector a</td>\n",
    "  </tr>\n",
    "  <tr>\n",
    "    <td style=\"color: #343233; text-align: left; font-size:14px\">linspace(inicio, fin, n)</td>\n",
    "    <td style=\"color: #343233; text-align: left; font-size:14px\">Genera un vector distribuido en partes iguales (n)</td>\n",
    "  </tr>\n",
    "</table>"
   ]
  },
  {
   "cell_type": "code",
   "execution_count": 5,
   "metadata": {},
   "outputs": [
    {
     "data": {
      "text/plain": [
       "1:5"
      ]
     },
     "execution_count": 5,
     "metadata": {},
     "output_type": "execute_result"
    }
   ],
   "source": [
    "# Genera un vector de 1 a 5 con un intervalo de 1\n",
    "d = 1:5"
   ]
  },
  {
   "cell_type": "code",
   "execution_count": 6,
   "metadata": {},
   "outputs": [
    {
     "data": {
      "text/plain": [
       "0:2:10"
      ]
     },
     "execution_count": 6,
     "metadata": {},
     "output_type": "execute_result"
    }
   ],
   "source": [
    "# Genera un vector de 0 a 10 con un intervalo de 2\n",
    "f = 0:2:10"
   ]
  },
  {
   "cell_type": "code",
   "execution_count": 7,
   "metadata": {},
   "outputs": [
    {
     "data": {
      "text/plain": [
       "6-element Array{Int64,1}:\n",
       "  0\n",
       "  2\n",
       "  4\n",
       "  6\n",
       "  8\n",
       " 10"
      ]
     },
     "execution_count": 7,
     "metadata": {},
     "output_type": "execute_result"
    }
   ],
   "source": [
    "# Con la función collect se puede mostrar los valores del vector f\n",
    "collect(f)"
   ]
  },
  {
   "cell_type": "code",
   "execution_count": 8,
   "metadata": {},
   "outputs": [
    {
     "data": {
      "text/plain": [
       "5-element Array{Float64,1}:\n",
       "  1.0 \n",
       "  3.25\n",
       "  5.5 \n",
       "  7.75\n",
       " 10.0 "
      ]
     },
     "execution_count": 8,
     "metadata": {},
     "output_type": "execute_result"
    }
   ],
   "source": [
    "# Generar un vector de 1 a 10 distribuido en 5 partes iguales\n",
    "collect(linspace(1, 10, 5))"
   ]
  },
  {
   "cell_type": "markdown",
   "metadata": {},
   "source": [
    "<h2 style=\"color: #323232; font-size:25px; font-family: 'Open Sans Condensed'\">Matrices Simples</h2>\n",
    "<p style=\"color: #343233; text-align: justify; text-justify: inter-word;\">Generar la siguiente matriz:</p>\n",
    "$$A = \\begin{bmatrix} 3 & -6 & 8 & 0 \\\\ 2 & 1 & 7 & -1 \\\\ 11 & -7 & 2 & -5 \\\\ 5 & 8 & 2 & -5\\end{bmatrix}$$\n",
    "<p style=\"color: #343233; text-align: justify; text-justify: inter-word;\">El ingreso de la matriz A, en Julia será de la siguiente forma:</p>"
   ]
  },
  {
   "cell_type": "code",
   "execution_count": 9,
   "metadata": {},
   "outputs": [
    {
     "data": {
      "text/plain": [
       "4×4 Array{Int64,2}:\n",
       "  3  -6  8   0\n",
       "  2   1  7  -1\n",
       " 11  -7  2  -5\n",
       "  5   8  2  -5"
      ]
     },
     "execution_count": 9,
     "metadata": {},
     "output_type": "execute_result"
    }
   ],
   "source": [
    "A = [3 -6 8 0; 2 1 7 -1; 11 -7 2 -5; 5 8 2 -5]"
   ]
  },
  {
   "cell_type": "markdown",
   "metadata": {},
   "source": [
    "<h2 style=\"color: #323232; font-size:25px; font-family: 'Open Sans Condensed'\">Selección de elementos de una matriz</h2>"
   ]
  },
  {
   "cell_type": "code",
   "execution_count": 10,
   "metadata": {},
   "outputs": [
    {
     "data": {
      "text/plain": [
       "-7"
      ]
     },
     "execution_count": 10,
     "metadata": {},
     "output_type": "execute_result"
    }
   ],
   "source": [
    "# Selección el elemento que se encuentra en la tercera fila y segunda columna de la matriz A\n",
    "A[3, 2]"
   ]
  },
  {
   "cell_type": "code",
   "execution_count": 11,
   "metadata": {},
   "outputs": [
    {
     "data": {
      "text/plain": [
       "4-element Array{Int64,1}:\n",
       " 8\n",
       " 7\n",
       " 2\n",
       " 2"
      ]
     },
     "execution_count": 11,
     "metadata": {},
     "output_type": "execute_result"
    }
   ],
   "source": [
    "# Selección de todas las filas y la tercera columan de la matriz A\n",
    "A[:, 3]"
   ]
  },
  {
   "cell_type": "code",
   "execution_count": 12,
   "metadata": {},
   "outputs": [
    {
     "data": {
      "text/plain": [
       "4-element Array{Int64,1}:\n",
       "  2\n",
       "  1\n",
       "  7\n",
       " -1"
      ]
     },
     "execution_count": 12,
     "metadata": {},
     "output_type": "execute_result"
    }
   ],
   "source": [
    "# Selección de la segunda fila y todas las columnas de la matriz A\n",
    "A[2, :]"
   ]
  },
  {
   "cell_type": "markdown",
   "metadata": {},
   "source": [
    "<p style=\"color: #343233; text-align: justify; text-justify: inter-word;\">Dada la matriz B, se procederá a realizar operaciones elementales, con respecto la matriz A.</p>\n",
    "\n",
    "$$B = \\begin{bmatrix}3 & 5 & 7 \\\\ 4 & 1 & 6 \\\\ 8 & 9 & 2 \\\\ 6 & 8 & 1 \\end{bmatrix}$$"
   ]
  },
  {
   "cell_type": "code",
   "execution_count": 13,
   "metadata": {},
   "outputs": [
    {
     "data": {
      "text/plain": [
       "4×3 Array{Int64,2}:\n",
       " 3  5  7\n",
       " 4  1  6\n",
       " 8  9  2\n",
       " 6  8  1"
      ]
     },
     "execution_count": 13,
     "metadata": {},
     "output_type": "execute_result"
    }
   ],
   "source": [
    "B = [3 5 7; 4 1 6; 8 9 2; 6 8 1]"
   ]
  },
  {
   "cell_type": "code",
   "execution_count": 14,
   "metadata": {},
   "outputs": [
    {
     "data": {
      "text/plain": [
       "4×3 Array{Int64,2}:\n",
       " 49  81   1\n",
       " 60  66  33\n",
       " -9  26  34\n",
       " 33  11  82"
      ]
     },
     "execution_count": 14,
     "metadata": {},
     "output_type": "execute_result"
    }
   ],
   "source": [
    "# Multiplicación de mmatrices\n",
    "A*B"
   ]
  },
  {
   "cell_type": "code",
   "execution_count": 15,
   "metadata": {},
   "outputs": [
    {
     "data": {
      "text/plain": [
       "4×3 Array{Float64,2}:\n",
       " 3.41509    -16.7358   1.18868 \n",
       " 1.2327      -6.76101  0.408805\n",
       " 0.0188679    1.83019  0.735849\n",
       " 4.19497    -28.4214   1.93711 "
      ]
     },
     "execution_count": 15,
     "metadata": {},
     "output_type": "execute_result"
    }
   ],
   "source": [
    "# A\\B = inv(A)*B\n",
    "A\\B"
   ]
  },
  {
   "cell_type": "markdown",
   "metadata": {},
   "source": [
    "<h2 style=\"color: #323232; font-size:25px; font-family: 'Open Sans Condensed'\">Resumen de las operaciones básicas con vectores y matrices</h2>"
   ]
  },
  {
   "cell_type": "markdown",
   "metadata": {},
   "source": [
    "<table>\n",
    "  <tr>\n",
    "    <th style=\"color: #323232; text-align: center; font-size:15px\">FUNCIONES</th>\n",
    "    <th style=\"color: #323232; text-align: center; font-size:15px\">DESCRIPCIÓN</th>\n",
    "  </tr>\n",
    "  <tr>\n",
    "    <td style=\"color: #343233; text-align: left; font-size:14px\">norm(a)</td>\n",
    "    <td style=\"color: #343233; text-align: left; font-size:14px\">Norma del vector a</td>\n",
    "  </tr>\n",
    "  <tr>\n",
    "    <td style=\"color: #343233; text-align: left; font-size:14px\">mean(a)</td>\n",
    "    <td style=\"color: #343233; text-align: left; font-size:14px\">Calcula la media del vector a</td>\n",
    "  </tr>\n",
    "  <tr>\n",
    "    <td style=\"color: #343233; text-align: left; font-size:14px\">std(a)</td>\n",
    "    <td style=\"color: #343233; text-align: left; font-size:14px\">Calcula la desviación estandar del vector a</td>\n",
    "  </tr>\n",
    "  <tr>\n",
    "    <td style=\"color: #343233; text-align: left; font-size:14px\">var(a)</td>\n",
    "    <td style=\"color: #343233; text-align: left; font-size:14px\">Calcula la varianza del vector a</td>\n",
    "  </tr>\n",
    "  <tr>\n",
    "    <td style=\"color: #343233; text-align: left; font-size:14px\">length(a)</td>\n",
    "    <td style=\"color: #343233; text-align: left; font-size:14px\">Devuelve la longitud del vector</td>\n",
    "  </tr>\n",
    "  <tr>\n",
    "    <td style=\"color: #343233; text-align: left; font-size:14px\">dot(a, b)</td>\n",
    "    <td style=\"color: #343233; text-align: left; font-size:14px\">Producto escalar entre los vectores a y b</td>\n",
    "  </tr>\n",
    "  <tr>\n",
    "    <td style=\"color: #343233; text-align: left; font-size:14px\">a.*b</td>\n",
    "    <td style=\"color: #343233; text-align: left; font-size:14px\">Producto entre los vectores a, b, elemento a elmento</td>\n",
    "  </tr>\n",
    "  <tr>\n",
    "    <td style=\"color: #343233; text-align: left; font-size:14px\">a.^b</td>\n",
    "    <td style=\"color: #343233; text-align: left; font-size:14px\">Potencia entre los vectores  a, b, elemento a elemento</td>\n",
    "  </tr>\n",
    "  <tr>\n",
    "    <td style=\"color: #343233; text-align: left; font-size:14px\">cross(a, b)</td>\n",
    "    <td style=\"color: #343233; text-align: left; font-size:14px\">Calcula el producto vectorial entre los vectores a y b</td>\n",
    "  </tr>\n",
    "  <tr>\n",
    "    <td style=\"color: #343233; text-align: left; font-size:14px\">A + B</td>\n",
    "    <td style=\"color: #343233; text-align: left; font-size:14px\">Suma de matrices</td>\n",
    "  </tr>\n",
    "  <tr>\n",
    "    <td style=\"color: #343233; text-align: left; font-size:14px\">A * B</td>\n",
    "    <td style=\"color: #343233; text-align: left; font-size:14px\">Multiplicación de matrices</td>\n",
    "  </tr>\n",
    "  <tr>\n",
    "    <td style=\"color: #343233; text-align: left; font-size:14px\">A\\B</td>\n",
    "    <td style=\"color: #343233; text-align: left; font-size:14px\">Inversa de la matriz A multiplicada por la matriz B</td>\n",
    "  </tr>\n",
    "  <tr>\n",
    "    <td style=\"color: #343233; text-align: left; font-size:14px\">maximum(A)</td>\n",
    "    <td style=\"color: #343233; text-align: left; font-size:14px\">Máximo valor de la matriz A</td>\n",
    "  </tr>\n",
    "  <tr>\n",
    "    <td style=\"color: #343233; text-align: left; font-size:14px\">minimum(A)</td>\n",
    "    <td style=\"color: #343233; text-align: left; font-size:14px\">Mínimo valor de la matriz A</td>\n",
    "  </tr>\n",
    "  <tr>\n",
    "    <td style=\"color: #343233; text-align: left; font-size:14px\">$\\alpha$*A</td>\n",
    "    <td style=\"color: #343233; text-align: left; font-size:14px\">Multiplica la matriz A por un escalar $\\alpha$</td>\n",
    "  </tr>\n",
    "  <tr>\n",
    "    <td style=\"color: #343233; text-align: left; font-size:14px\">A^n</td>\n",
    "    <td style=\"color: #343233; text-align: left; font-size:14px\">Matriz A elevada a la e-nésima potencia</td>\n",
    "  </tr>\n",
    "  <tr>\n",
    "    <td style=\"color: #343233; text-align: left; font-size:14px\">A.^n</td>\n",
    "    <td style=\"color: #343233; text-align: left; font-size:14px\">Elementos de la matriz A elevados a la e-nésima potencia</td>\n",
    "  </tr>\n",
    "  <tr>\n",
    "    <td style=\"color: #343233; text-align: left; font-size:14px\">A[n, m]</td>\n",
    "    <td style=\"color: #343233; text-align: left; font-size:14px\">\n",
    "\n",
    "Selecciona el elemento que se encuentra en la n fila y m columna pertenecientes a la matriz A\n",
    "</td>\n",
    "  </tr>\n",
    "  <tr>\n",
    "    <td style=\"color: #343233; text-align: left; font-size:14px\">A[n, :]</td>\n",
    "    <td style=\"color: #343233; text-align: left; font-size:14px\">Selecciona la n-ésima fila y todas las columnas de la matriz A</td>\n",
    "  </tr>\n",
    "  <tr>\n",
    "    <td style=\"color: #343233; text-align: left; font-size:14px\">A[:, n]</td>\n",
    "    <td style=\"color: #343233; text-align: left; font-size:14px\">Selecciona todas la n-ésima columna y todas las filas de la matriz A</td>\n",
    "  </tr>\n",
    "  <tr>\n",
    "    <td style=\"color: #343233; text-align: left; font-size:14px\">hcat(A, B)</td>\n",
    "    <td style=\"color: #343233; text-align: left; font-size:14px\">Concatena horizontalmente, los elementos de la matriz A con los de la matriz B</td>\n",
    "  </tr>\n",
    "  <tr>\n",
    "    <td style=\"color: #343233; text-align: left; font-size:14px\">vcat(A, B)</td>\n",
    "    <td style=\"color: #343233; text-align: left; font-size:14px\">Concatena verticalmente, los elementos de la matriz A con los de la matriz B</td>\n",
    "  </tr>\n",
    "</table>"
   ]
  },
  {
   "cell_type": "markdown",
   "metadata": {},
   "source": [
    "<h2 style=\"color: #323232; font-size:25px; font-family: 'Open Sans Condensed'\">2. Matrices especiales en Julia</h2>"
   ]
  },
  {
   "cell_type": "markdown",
   "metadata": {},
   "source": [
    "<p style=\"color: #343233; text-align: justify; text-justify: inter-word;\">Como se puede observar la elaboración de matrices en Julia es muy similar a MATLAB, por lo que las siguientes funciones puede  que sea muy familiar para aquellos usuarios de MATLAB.</p>"
   ]
  },
  {
   "cell_type": "markdown",
   "metadata": {},
   "source": [
    "<table>\n",
    "  <tr>\n",
    "    <th style=\"color: #323232; text-align: center; font-size:15px\">FUNCIONES</th>\n",
    "    <th style=\"color: #323232; text-align: center; font-size:15px\">DESCRIPCIÓN</th>\n",
    "  </tr>\n",
    "  <tr>\n",
    "    <td style=\"color: #343233; text-align: left; font-size:14px\">det(A)</td>\n",
    "    <td style=\"color: #343233; text-align: left; font-size:14px\">Calcula la determinante de la matriz A</td>\n",
    "  </tr>\n",
    "  <tr>\n",
    "    <td style=\"color: #343233; text-align: left; font-size:14px\">inv(A)</td>\n",
    "    <td style=\"color: #343233; text-align: left; font-size:14px\">Inversa de la matriz A</td>\n",
    "  </tr>\n",
    "  <tr>\n",
    "    <td style=\"color: #343233; text-align: left; font-size:14px\">A' ó transpose(A)</td>\n",
    "    <td style=\"color: #343233; text-align: left; font-size:14px\">Transpuesta de la matriz A</td>\n",
    "  </tr>\n",
    "  <tr>\n",
    "    <td style=\"color: #343233; text-align: left; font-size:14px\">trace(A)</td>\n",
    "    <td style=\"color: #343233; text-align: left; font-size:14px\">Calcula la traza de la matriz A</td>\n",
    "  </tr>\n",
    "  <tr>\n",
    "    <td style=\"color: #343233; text-align: left; font-size:14px\">rank(A)</td>\n",
    "    <td style=\"color: #343233; text-align: left; font-size:14px\">Calcula el rango de la matriz A</td>\n",
    "  </tr>\n",
    "  <tr>\n",
    "    <td style=\"color: #343233; text-align: left; font-size:14px\">diag(A)</td>\n",
    "    <td style=\"color: #343233; text-align: left; font-size:14px\">Calcula la diagonal de la matriz A</td>\n",
    "  </tr>\n",
    "  <tr>\n",
    "    <td style=\"color: #343233; text-align: left; font-size:14px\">UpperTriangular(A)</td>\n",
    "    <td style=\"color: #343233; text-align: left; font-size:14px\">Obtiene la matriz triangular superior de la matriz A</td>\n",
    "  </tr>\n",
    "  <tr>\n",
    "    <td style=\"color: #343233; text-align: left; font-size:14px\">LowerTriangular(A)</td>\n",
    "    <td style=\"color: #343233; text-align: left; font-size:14px\">Obtiene la matriz triangular inferior de la matriz A</td>\n",
    "  </tr>\n",
    "  <tr>\n",
    "    <td style=\"color: #343233; text-align: left; font-size:14px\">cross(a, b)</td>\n",
    "    <td style=\"color: #343233; text-align: left; font-size:14px\">Calcula el producto vectorial entre los vectores a y b</td>\n",
    "  </tr>\n",
    "  <tr>\n",
    "    <td style=\"color: #343233; text-align: left; font-size:14px\">zeros(n, m)</td>\n",
    "    <td style=\"color: #343233; text-align: left; font-size:14px\">Genera una matriz de nxm con elementos igual a ceros</td>\n",
    "  </tr>\n",
    "  <tr>\n",
    "    <td style=\"color: #343233; text-align: left; font-size:14px\">ones(n, m)</td>\n",
    "    <td style=\"color: #343233; text-align: left; font-size:14px\">Genera una matriz de nxm con elementos igual a la unidad</td>\n",
    "  </tr>\n",
    "  <tr>\n",
    "    <td style=\"color: #343233; text-align: left; font-size:14px\">eye(n, m)</td>\n",
    "    <td style=\"color: #343233; text-align: left; font-size:14px\">Genera una matriz identidad de nxm</td>\n",
    "  </tr>\n",
    "  <tr>\n",
    "    <td style=\"color: #343233; text-align: left; font-size:14px\">rand(n, m)</td>\n",
    "    <td style=\"color: #343233; text-align: left; font-size:14px\">Genera una matriz de nxm con elementos aleatorios entre 0 y 1</td>\n",
    "  </tr>\n",
    "  <tr>\n",
    "    <td style=\"color: #343233; text-align: left; font-size:14px\">randn(n, m)</td>\n",
    "    <td style=\"color: #343233; text-align: left; font-size:14px\">Genera una matriz de nxm con elementos aleatorios bajo una distribución normal</td>\n",
    "  </tr>\n",
    "  <tr>\n",
    "    <td style=\"color: #343233; text-align: left; font-size:14px\">size(A)</td>\n",
    "    <td style=\"color: #343233; text-align: left; font-size:14px\">Calcula el tamaño de la matriz A</td>\n",
    "  </tr>\n",
    "  <tr>\n",
    "    <td style=\"color: #343233; text-align: left; font-size:14px\">reshape(A, m, n)</td>\n",
    "    <td style=\"color: #343233; text-align: left; font-size:14px\">  Devuelve la matriz de orden mxn extraída de la matriz A tomando elementos consecutivos de A por columnas</td>\n",
    "  </tr>\n",
    "</table>"
   ]
  },
  {
   "cell_type": "markdown",
   "metadata": {},
   "source": [
    "<h2 style=\"color: #323232; font-size:25px; font-family: 'Open Sans Condensed'\">Operaciones simples con matrices especiales</h2>"
   ]
  },
  {
   "cell_type": "code",
   "execution_count": 16,
   "metadata": {},
   "outputs": [
    {
     "data": {
      "text/plain": [
       "159.0000000000001"
      ]
     },
     "execution_count": 16,
     "metadata": {},
     "output_type": "execute_result"
    }
   ],
   "source": [
    "# Determinante de la matriz A\n",
    "det(A)"
   ]
  },
  {
   "cell_type": "code",
   "execution_count": 17,
   "metadata": {},
   "outputs": [
    {
     "data": {
      "text/plain": [
       "4×4 Array{Float64,2}:\n",
       " -3.11321    3.77358    1.09434   -1.84906 \n",
       " -1.24528    1.50943    0.371069  -0.672956\n",
       "  0.358491  -0.283019  -0.132075   0.188679\n",
       " -4.96226    6.07547    1.63522   -3.05031 "
      ]
     },
     "execution_count": 17,
     "metadata": {},
     "output_type": "execute_result"
    }
   ],
   "source": [
    "# Inversa de la matriz A\n",
    "inv(A)"
   ]
  },
  {
   "cell_type": "markdown",
   "metadata": {},
   "source": [
    "<h2 style=\"color: #323232; font-size:25px; font-family: 'Open Sans Condensed'\">3. Matrices Complejas</h2>"
   ]
  },
  {
   "cell_type": "markdown",
   "metadata": {},
   "source": [
    "$$C = \\begin{bmatrix} 7+i &-2+5i \\\\ 4+i & -9i \\end{bmatrix}$$"
   ]
  },
  {
   "cell_type": "code",
   "execution_count": 18,
   "metadata": {},
   "outputs": [
    {
     "data": {
      "text/plain": [
       "2×2 Array{Complex{Int64},2}:\n",
       " 7+1im  -2+5im\n",
       " 4+0im   0-9im"
      ]
     },
     "execution_count": 18,
     "metadata": {},
     "output_type": "execute_result"
    }
   ],
   "source": [
    "# En julia im interpreta a los números imaginarios\n",
    "C = [7+1im -2+5im; 4 -9im]"
   ]
  },
  {
   "cell_type": "code",
   "execution_count": 19,
   "metadata": {},
   "outputs": [
    {
     "data": {
      "text/plain": [
       "2×2 Array{Int64,2}:\n",
       " 7  -2\n",
       " 4   0"
      ]
     },
     "execution_count": 19,
     "metadata": {},
     "output_type": "execute_result"
    }
   ],
   "source": [
    "# Muestra la parte real de la matriz C\n",
    "real(C)"
   ]
  },
  {
   "cell_type": "code",
   "execution_count": 20,
   "metadata": {},
   "outputs": [
    {
     "data": {
      "text/plain": [
       "2×2 Array{Int64,2}:\n",
       " 1   5\n",
       " 0  -9"
      ]
     },
     "execution_count": 20,
     "metadata": {},
     "output_type": "execute_result"
    }
   ],
   "source": [
    "# Muestra la parte imaginaria de la matriz C\n",
    "imag(C)"
   ]
  },
  {
   "cell_type": "code",
   "execution_count": 21,
   "metadata": {},
   "outputs": [
    {
     "data": {
      "text/plain": [
       "2×2 Array{Complex{Int64},2}:\n",
       " 7+1im  -2+5im\n",
       " 4+0im   0-9im"
      ]
     },
     "execution_count": 21,
     "metadata": {},
     "output_type": "execute_result"
    }
   ],
   "source": [
    "# Muestra la matriz compleja C\n",
    "complex(C)"
   ]
  },
  {
   "cell_type": "markdown",
   "metadata": {},
   "source": [
    "<h2 style=\"color: #323232; font-size:25px; font-family: 'Open Sans Condensed'\">4. Matrices vacias</h2>"
   ]
  },
  {
   "cell_type": "markdown",
   "metadata": {},
   "source": [
    "<p style=\"color: #343233; text-align: justify; text-justify: inter-word;\">La utilidad de la matriz vacia radica principalmente en que se le puede asignar cualquier tipo de dato definido.</p>"
   ]
  },
  {
   "cell_type": "code",
   "execution_count": 22,
   "metadata": {},
   "outputs": [
    {
     "data": {
      "text/plain": [
       "5-element Array{Any,1}:\n",
       "  0.841471\n",
       "  0.909297\n",
       "  0.14112 \n",
       " -0.756802\n",
       " -0.958924"
      ]
     },
     "execution_count": 22,
     "metadata": {},
     "output_type": "execute_result"
    }
   ],
   "source": [
    "h = [] # Genera una matriz vacia sin declarción del tipo de dato\n",
    "for i in 1:5\n",
    "    h = append!(h, sin(i))\n",
    "end\n",
    "h"
   ]
  },
  {
   "cell_type": "markdown",
   "metadata": {},
   "source": [
    "<p style=\"color: #343233; text-align: justify; text-justify: inter-word;\">Una forma de replicar el ejemplo anterior es:</p>"
   ]
  },
  {
   "cell_type": "code",
   "execution_count": 23,
   "metadata": {},
   "outputs": [
    {
     "data": {
      "text/plain": [
       "4-element Array{Float64,1}:\n",
       "  0.841471\n",
       "  0.909297\n",
       "  0.14112 \n",
       " -0.756802"
      ]
     },
     "execution_count": 23,
     "metadata": {},
     "output_type": "execute_result"
    }
   ],
   "source": [
    "h = [sin(i) for i in 1:4]"
   ]
  },
  {
   "cell_type": "markdown",
   "metadata": {},
   "source": [
    "<p style=\"color: #343233; text-align: justify; text-justify: inter-word;\">Para el siguiente ejemplo se declarará una Matriz de 3x3, con un tipo de dato Numérico es decir que la matriz aceptara valores enteros como flotantes.</p>\n",
    "\n",
    "<p style=\"color: #343233; text-align: justify; text-justify: inter-word;\">La definición de una matriz vacia de 3x3 se realiza de la siguiente manera:</p>"
   ]
  },
  {
   "cell_type": "code",
   "execution_count": 24,
   "metadata": {},
   "outputs": [
    {
     "data": {
      "text/plain": [
       "3×3 Array{Number,2}:\n",
       " #undef  #undef  #undef\n",
       " #undef  #undef  #undef\n",
       " #undef  #undef  #undef"
      ]
     },
     "execution_count": 24,
     "metadata": {},
     "output_type": "execute_result"
    }
   ],
   "source": [
    "# Definiendo el tamaño de la matriz -->> 3x3\n",
    "Array{Number}(3, 3)"
   ]
  },
  {
   "cell_type": "markdown",
   "metadata": {},
   "source": [
    "<p style=\"color: #343233; text-align: justify; text-justify: inter-word;\">Ahora se presentara un ejemplo del como llenar matrices vacias.</p>"
   ]
  },
  {
   "cell_type": "markdown",
   "metadata": {},
   "source": [
    "$$G = \\begin{bmatrix} 1 & 2 & 3 \\\\ 4 & 5 & 6 \\\\ 7 & 8 & 9\\end{bmatrix}$$"
   ]
  },
  {
   "cell_type": "code",
   "execution_count": 25,
   "metadata": {},
   "outputs": [],
   "source": [
    "G = Array{Number}(3, 3)\n",
    "for i in 1:3\n",
    "    for j in 1:3\n",
    "        G[i, j] = i*j\n",
    "    end\n",
    "end"
   ]
  },
  {
   "cell_type": "markdown",
   "metadata": {},
   "source": [
    "<p style=\"color: #343233; text-align: justify; text-justify: inter-word;\">El resultado será el siguiente:</p>"
   ]
  },
  {
   "cell_type": "code",
   "execution_count": 26,
   "metadata": {},
   "outputs": [
    {
     "data": {
      "text/plain": [
       "3×3 Array{Number,2}:\n",
       " 1  2  3\n",
       " 2  4  6\n",
       " 3  6  9"
      ]
     },
     "execution_count": 26,
     "metadata": {},
     "output_type": "execute_result"
    }
   ],
   "source": [
    "G"
   ]
  },
  {
   "cell_type": "markdown",
   "metadata": {},
   "source": [
    "<p style=\"color: #343233; text-align: justify; text-justify: inter-word;\">Otra forma de realizar el anterior ejemplo seria de la siguiente manera:</p>"
   ]
  },
  {
   "cell_type": "code",
   "execution_count": 27,
   "metadata": {},
   "outputs": [],
   "source": [
    "G = Array{Number}(3, 3)\n",
    "counter = 1\n",
    "for j in 1:3\n",
    "    for i in 1:3\n",
    "        A[i, j] = counter\n",
    "        counter = counter + 1;\n",
    "    end\n",
    "end"
   ]
  },
  {
   "cell_type": "code",
   "execution_count": 28,
   "metadata": {},
   "outputs": [
    {
     "data": {
      "text/plain": [
       "3×3 Array{Number,2}:\n",
       " #undef  #undef  #undef\n",
       " #undef  #undef  #undef\n",
       " #undef  #undef  #undef"
      ]
     },
     "execution_count": 28,
     "metadata": {},
     "output_type": "execute_result"
    }
   ],
   "source": [
    "G"
   ]
  },
  {
   "cell_type": "markdown",
   "metadata": {},
   "source": [
    "<h2 style=\"color: #323232; font-size:25px; font-family: 'Open Sans Condensed'\">5. Aplicación: Regresión Lineal Simple</h2>"
   ]
  },
  {
   "cell_type": "markdown",
   "metadata": {},
   "source": [
    "<p style=\"color: #343233; text-align: justify; text-justify: inter-word;\">Una aplicación de las matrices puede ser utilizada en los modelos lineales, para en el siguiente ejemplo se mostrará la facilidad de manipular Julia en modelos de regresion lineal simple. La cual estará dada por la siguiente ecuación:</p>\n",
    "\n",
    "$$\\hat{\\beta} = (X' X)^{-1}X'y$$"
   ]
  },
  {
   "cell_type": "code",
   "execution_count": 29,
   "metadata": {},
   "outputs": [],
   "source": [
    "y = [2158.70, 1678.15, 2316.00, 2061.30, 2207.50, 1708.30, 1784.70, 2575.00, 2357.90, 2256.70, 2165.20, 2399.55, 1779.80,\n",
    "    2336.75, 1765.30, 2053.50, 2414.40, 2200.50, 2654.20, 1753.70];\n",
    "x = [15.50, 23.75, 8.00, 17.00, 5.50, 19.00, 24.00, 2.50, 7.50, 11.00, 13.00, 3.75, 25.00, 9.75, 22.00, 18.00, 6.00, \n",
    "    12.50, 2.00, 21.50];"
   ]
  },
  {
   "cell_type": "code",
   "execution_count": 30,
   "metadata": {},
   "outputs": [
    {
     "data": {
      "image/png": "[encoded data removed]",
      "text/plain": [
       "PyPlot.Figure(PyObject <Figure size 640x480 with 1 Axes>)"
      ]
     },
     "metadata": {},
     "output_type": "display_data"
    }
   ],
   "source": [
    "using PyPlot\n",
    "a, b = linreg(x, y);\n",
    "scatter(x, y, c=\"#323232\");           \n",
    "plot(x, a + b*x, c=\"#00508f\", lw=.8);"
   ]
  },
  {
   "cell_type": "code",
   "execution_count": 31,
   "metadata": {},
   "outputs": [
    {
     "data": {
      "text/plain": [
       "20×2 Array{Float64,2}:\n",
       " 1.0  15.5 \n",
       " 1.0  23.75\n",
       " 1.0   8.0 \n",
       " 1.0  17.0 \n",
       " 1.0   5.5 \n",
       " 1.0  19.0 \n",
       " 1.0  24.0 \n",
       " 1.0   2.5 \n",
       " 1.0   7.5 \n",
       " 1.0  11.0 \n",
       " 1.0  13.0 \n",
       " 1.0   3.75\n",
       " 1.0  25.0 \n",
       " 1.0   9.75\n",
       " 1.0  22.0 \n",
       " 1.0  18.0 \n",
       " 1.0   6.0 \n",
       " 1.0  12.5 \n",
       " 1.0   2.0 \n",
       " 1.0  21.5 "
      ]
     },
     "execution_count": 31,
     "metadata": {},
     "output_type": "execute_result"
    }
   ],
   "source": [
    "x1 = ones(x)     # Generando un vector con elementos igual a 1\n",
    "X = hcat(x1, x)  # Concatenando los vectores"
   ]
  },
  {
   "cell_type": "code",
   "execution_count": 32,
   "metadata": {},
   "outputs": [
    {
     "data": {
      "text/plain": [
       "2-element Array{Float64,1}:\n",
       " 2627.82  \n",
       "  -37.1536"
      ]
     },
     "execution_count": 32,
     "metadata": {},
     "output_type": "execute_result"
    }
   ],
   "source": [
    "β = inv(X'*X)*X'*y"
   ]
  }
 ],
 "metadata": {
  "kernelspec": {
   "display_name": "Julia 0.6.2",
   "language": "julia",
   "name": "julia-0.6"
  },
  "language_info": {
   "file_extension": ".jl",
   "mimetype": "application/julia",
   "name": "julia",
   "version": "0.6.2"
  }
 },
 "nbformat": 4,
 "nbformat_minor": 2
}
